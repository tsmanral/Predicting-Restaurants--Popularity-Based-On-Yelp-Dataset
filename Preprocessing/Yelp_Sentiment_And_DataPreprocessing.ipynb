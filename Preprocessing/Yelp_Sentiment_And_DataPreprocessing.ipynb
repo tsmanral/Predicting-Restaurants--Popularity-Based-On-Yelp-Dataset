{
 "cells": [
  {
   "cell_type": "code",
   "execution_count": 16,
   "metadata": {},
   "outputs": [],
   "source": [
    "import pandas as pd\n",
    "import numpy as np\n",
    "from sklearn import preprocessing\n",
    "le = preprocessing.LabelEncoder()\n",
    "import re\n",
    "import matplotlib.pyplot as plt\n",
    "%matplotlib inline \n",
    "\n",
    "import sys\n",
    "import os"
   ]
  },
  {
   "cell_type": "code",
   "execution_count": 17,
   "metadata": {},
   "outputs": [],
   "source": [
    "import nltk\n",
    "from nltk import word_tokenize, sent_tokenize\n",
    "from nltk.corpus import stopwords\n",
    "from nltk.stem import LancasterStemmer, WordNetLemmatizer, PorterStemmer\n",
    "from wordcloud import WordCloud, STOPWORDS\n",
    "from textblob import TextBlob"
   ]
  },
  {
   "cell_type": "code",
   "execution_count": 6,
   "metadata": {},
   "outputs": [],
   "source": [
    "business = pd.read_excel('yelp-dataset/yelp_data_business.xlsx')"
   ]
  },
  {
   "cell_type": "code",
   "execution_count": 7,
   "metadata": {},
   "outputs": [],
   "source": [
    "review = pd.read_csv('yelp-dataset/yelp_data_review.csv')"
   ]
  },
  {
   "cell_type": "code",
   "execution_count": 9,
   "metadata": {},
   "outputs": [],
   "source": [
    "business['business_id'] = business['business_id'].astype('category')"
   ]
  },
  {
   "cell_type": "code",
   "execution_count": 10,
   "metadata": {},
   "outputs": [
    {
     "data": {
      "text/plain": [
       "<matplotlib.axes._subplots.AxesSubplot at 0x26314841f88>"
      ]
     },
     "execution_count": 10,
     "metadata": {},
     "output_type": "execute_result"
    },
    {
     "data": {
      "image/png": "[encoded data removed]",
      "text/plain": [
       "<Figure size 432x288 with 1 Axes>"
      ]
     },
     "metadata": {
      "needs_background": "light"
     },
     "output_type": "display_data"
    }
   ],
   "source": [
    "review['stars'].value_counts().plot(kind='bar')"
   ]
  },
  {
   "cell_type": "code",
   "execution_count": 14,
   "metadata": {},
   "outputs": [
    {
     "data": {
      "text/plain": [
       "\"i have to say that this office really has it together, they are so organized and friendly! dr. j. phillipp is a great dentist, very friendly and professional. the dental assistants that helped in my procedure were amazing, jewel and bailey helped me to feel comfortable! i don't have dental insurance, but they have this insurance through their office you can purchase for $80 something a year and this gave me 25% off all of my dental work, plus they helped me get signed up for care credit which i knew nothing about before this visit! i highly recommend this office for the nice synergy the whole office has!\""
      ]
     },
     "execution_count": 14,
     "metadata": {},
     "output_type": "execute_result"
    }
   ],
   "source": [
    "## Change the reviews type to string\n",
    "review['text'] = review['text'].astype(str)\n",
    "  \n",
    "## Lowercase all reviews\n",
    "review['text'] = review['text'].apply(lambda x: \" \".join(x.lower() for x in x.split()))\n",
    "review['text'][2] "
   ]
  },
  {
   "cell_type": "code",
   "execution_count": 15,
   "metadata": {},
   "outputs": [
    {
     "data": {
      "text/plain": [
       "'i have to say that this office really has it together they are so organized and friendly dr j phillipp is a great dentist very friendly and professional the dental assistants that helped in my procedure were amazing jewel and bailey helped me to feel comfortable i dont have dental insurance but they have this insurance through their office you can purchase for 80 something a year and this gave me 25 off all of my dental work plus they helped me get signed up for care credit which i knew nothing about before this visit i highly recommend this office for the nice synergy the whole office has'"
      ]
     },
     "execution_count": 15,
     "metadata": {},
     "output_type": "execute_result"
    }
   ],
   "source": [
    "## Remove punctuation\n",
    "review['text'] = review['text'].str.replace('[^\\w\\s]','')\n",
    "review['text'][2]"
   ]
  },
  {
   "cell_type": "code",
   "execution_count": 16,
   "metadata": {},
   "outputs": [
    {
     "data": {
      "text/plain": [
       "'say office really together organized friendly dr j phillipp great dentist friendly professional dental assistants helped procedure amazing jewel bailey helped feel comfortable dont dental insurance insurance office purchase 80 something year gave 25 dental work plus helped get signed care credit knew nothing visit highly recommend office nice synergy whole office'"
      ]
     },
     "execution_count": 16,
     "metadata": {},
     "output_type": "execute_result"
    }
   ],
   "source": [
    "stop = stopwords.words('english')\n",
    "review['text'] = review['text'].apply(lambda x: \" \".join(x for x in x.split() if x not in stop))\n",
    "review['text'][2]"
   ]
  },
  {
   "cell_type": "code",
   "execution_count": 17,
   "metadata": {},
   "outputs": [
    {
     "name": "stderr",
     "output_type": "stream",
     "text": [
      "[nltk_data] Downloading package stopwords to\n",
      "[nltk_data]     C:\\Users\\tribh\\AppData\\Roaming\\nltk_data...\n",
      "[nltk_data]   Package stopwords is already up-to-date!\n"
     ]
    },
    {
     "data": {
      "text/plain": [
       "True"
      ]
     },
     "execution_count": 17,
     "metadata": {},
     "output_type": "execute_result"
    }
   ],
   "source": [
    "nltk.download('stopwords')"
   ]
  },
  {
   "cell_type": "code",
   "execution_count": 18,
   "metadata": {},
   "outputs": [
    {
     "data": {
      "text/plain": [
       "'say offic realli togeth organ friendli dr j phillipp great dentist friendli profession dental assist help procedur amaz jewel bailey help feel comfort dont dental insur insur offic purchas 80 someth year gave 25 dental work plu help get sign care credit knew noth visit highli recommend offic nice synergi whole offic'"
      ]
     },
     "execution_count": 18,
     "metadata": {},
     "output_type": "execute_result"
    }
   ],
   "source": [
    "st = PorterStemmer()\n",
    "review['text'] = review['text'].apply(lambda x: \" \".join([st.stem(word) for word in x.split()]))\n",
    "review['text'][2]"
   ]
  },
  {
   "cell_type": "code",
   "execution_count": null,
   "metadata": {},
   "outputs": [],
   "source": [
    "## Define a function which can be applied to calculate the score for the whole dataset\n",
    " \n",
    "def senti(x):\n",
    "    return TextBlob(x).sentiment  \n",
    " \n",
    "review['senti_score'] = review['text'].apply(senti)\n",
    " \n",
    "review.senti_score.head()"
   ]
  },
  {
   "cell_type": "code",
   "execution_count": 11,
   "metadata": {},
   "outputs": [],
   "source": [
    "review_senti = review\n",
    "review_senti['count'] = 1 "
   ]
  },
  {
   "cell_type": "code",
   "execution_count": 12,
   "metadata": {},
   "outputs": [],
   "source": [
    "def fun_polarity(row):\n",
    "    phrase = row\n",
    "    matches = re.findall('[-+]?\\d*\\.\\d+|\\d+', phrase)\n",
    "    return(float(matches[0]))\n",
    "\n",
    "review_senti['polarity'] = review_senti['senti_score'].apply(lambda row: fun_polarity(row))"
   ]
  },
  {
   "cell_type": "code",
   "execution_count": 13,
   "metadata": {},
   "outputs": [],
   "source": [
    "def fun_polarity(row):\n",
    "    phrase = row\n",
    "    matches = re.findall('[-+]?\\d*\\.\\d+|\\d+', phrase)\n",
    "    if(float(matches[0]) >= 5.0):\n",
    "        return(5.0)\n",
    "    else:\n",
    "        return(float(matches[1]) + 0.00001)\n",
    "\n",
    "review_senti['subjectivity'] = review_senti['senti_score'].apply(lambda row: fun_polarity(row))"
   ]
  },
  {
   "cell_type": "code",
   "execution_count": 14,
   "metadata": {},
   "outputs": [],
   "source": [
    "# Define a lambda function to compute the weighted mean:\n",
    "wm = lambda x: np.average(x, weights=review_senti.loc[x.index, 'subjectivity'])\n",
    "\n",
    "# Define a dictionary with the functions to apply for a given column:\n",
    "f = {'useful': ['sum'], 'funny': ['sum'], 'cool': ['sum'], 'count': ['sum'], 'stars' : wm }\n",
    "\n",
    "# Groupby and aggregate with your dictionary:\n",
    "senti_data = review_senti.groupby([\"business_id\"], as_index=False).agg(f)"
   ]
  },
  {
   "cell_type": "code",
   "execution_count": 15,
   "metadata": {},
   "outputs": [
    {
     "data": {
      "text/html": [
       "<div>\n",
       "<style scoped>\n",
       "    .dataframe tbody tr th:only-of-type {\n",
       "        vertical-align: middle;\n",
       "    }\n",
       "\n",
       "    .dataframe tbody tr th {\n",
       "        vertical-align: top;\n",
       "    }\n",
       "\n",
       "    .dataframe thead th {\n",
       "        text-align: right;\n",
       "    }\n",
       "</style>\n",
       "<table border=\"1\" class=\"dataframe\">\n",
       "  <thead>\n",
       "    <tr style=\"text-align: right;\">\n",
       "      <th></th>\n",
       "      <th>business_id</th>\n",
       "      <th>count</th>\n",
       "      <th>useful</th>\n",
       "      <th>funny</th>\n",
       "      <th>cool</th>\n",
       "      <th>weighted_stars</th>\n",
       "    </tr>\n",
       "  </thead>\n",
       "  <tbody>\n",
       "    <tr>\n",
       "      <th>0</th>\n",
       "      <td>--7zmmkVg-IMGaXbuVd0SQ</td>\n",
       "      <td>59</td>\n",
       "      <td>86</td>\n",
       "      <td>30</td>\n",
       "      <td>65</td>\n",
       "      <td>3.948300</td>\n",
       "    </tr>\n",
       "    <tr>\n",
       "      <th>1</th>\n",
       "      <td>--8LPVSo5i0Oo61X01sV9A</td>\n",
       "      <td>4</td>\n",
       "      <td>11</td>\n",
       "      <td>0</td>\n",
       "      <td>0</td>\n",
       "      <td>3.999245</td>\n",
       "    </tr>\n",
       "    <tr>\n",
       "      <th>2</th>\n",
       "      <td>--9QQLMTbFzLJ_oT-ON3Xw</td>\n",
       "      <td>13</td>\n",
       "      <td>8</td>\n",
       "      <td>3</td>\n",
       "      <td>4</td>\n",
       "      <td>3.649388</td>\n",
       "    </tr>\n",
       "    <tr>\n",
       "      <th>3</th>\n",
       "      <td>--9e1ONYQuAa-CB_Rrw7Tw</td>\n",
       "      <td>1661</td>\n",
       "      <td>1770</td>\n",
       "      <td>917</td>\n",
       "      <td>1183</td>\n",
       "      <td>4.145556</td>\n",
       "    </tr>\n",
       "    <tr>\n",
       "      <th>4</th>\n",
       "      <td>--DdmeR16TRb3LsjG0ejrQ</td>\n",
       "      <td>6</td>\n",
       "      <td>18</td>\n",
       "      <td>15</td>\n",
       "      <td>14</td>\n",
       "      <td>3.321625</td>\n",
       "    </tr>\n",
       "    <tr>\n",
       "      <th>...</th>\n",
       "      <td>...</td>\n",
       "      <td>...</td>\n",
       "      <td>...</td>\n",
       "      <td>...</td>\n",
       "      <td>...</td>\n",
       "      <td>...</td>\n",
       "    </tr>\n",
       "    <tr>\n",
       "      <th>133622</th>\n",
       "      <td>zzuOCWxuY39YJ1wnTwQ0Lg</td>\n",
       "      <td>3</td>\n",
       "      <td>7</td>\n",
       "      <td>0</td>\n",
       "      <td>0</td>\n",
       "      <td>1.000000</td>\n",
       "    </tr>\n",
       "    <tr>\n",
       "      <th>133623</th>\n",
       "      <td>zzwaS0xn1MVEPEf0hNLjew</td>\n",
       "      <td>72</td>\n",
       "      <td>87</td>\n",
       "      <td>47</td>\n",
       "      <td>52</td>\n",
       "      <td>3.509772</td>\n",
       "    </tr>\n",
       "    <tr>\n",
       "      <th>133624</th>\n",
       "      <td>zzwhN7x37nyjP0ZM8oiHmw</td>\n",
       "      <td>57</td>\n",
       "      <td>54</td>\n",
       "      <td>8</td>\n",
       "      <td>30</td>\n",
       "      <td>4.190880</td>\n",
       "    </tr>\n",
       "    <tr>\n",
       "      <th>133625</th>\n",
       "      <td>zzwicjPC9g246MK2M1ZFBA</td>\n",
       "      <td>76</td>\n",
       "      <td>122</td>\n",
       "      <td>40</td>\n",
       "      <td>41</td>\n",
       "      <td>3.048008</td>\n",
       "    </tr>\n",
       "    <tr>\n",
       "      <th>133626</th>\n",
       "      <td>zzzaIBwimxVej4tY6qFOUQ</td>\n",
       "      <td>37</td>\n",
       "      <td>63</td>\n",
       "      <td>17</td>\n",
       "      <td>14</td>\n",
       "      <td>3.391003</td>\n",
       "    </tr>\n",
       "  </tbody>\n",
       "</table>\n",
       "<p>133627 rows × 6 columns</p>\n",
       "</div>"
      ],
      "text/plain": [
       "                   business_id  count  useful  funny  cool  weighted_stars\n",
       "0       --7zmmkVg-IMGaXbuVd0SQ     59      86     30    65        3.948300\n",
       "1       --8LPVSo5i0Oo61X01sV9A      4      11      0     0        3.999245\n",
       "2       --9QQLMTbFzLJ_oT-ON3Xw     13       8      3     4        3.649388\n",
       "3       --9e1ONYQuAa-CB_Rrw7Tw   1661    1770    917  1183        4.145556\n",
       "4       --DdmeR16TRb3LsjG0ejrQ      6      18     15    14        3.321625\n",
       "...                        ...    ...     ...    ...   ...             ...\n",
       "133622  zzuOCWxuY39YJ1wnTwQ0Lg      3       7      0     0        1.000000\n",
       "133623  zzwaS0xn1MVEPEf0hNLjew     72      87     47    52        3.509772\n",
       "133624  zzwhN7x37nyjP0ZM8oiHmw     57      54      8    30        4.190880\n",
       "133625  zzwicjPC9g246MK2M1ZFBA     76     122     40    41        3.048008\n",
       "133626  zzzaIBwimxVej4tY6qFOUQ     37      63     17    14        3.391003\n",
       "\n",
       "[133627 rows x 6 columns]"
      ]
     },
     "execution_count": 15,
     "metadata": {},
     "output_type": "execute_result"
    }
   ],
   "source": [
    "data = {'business_id' : senti_data['business_id'], 'count' : senti_data['count']['sum'], 'useful' : senti_data['useful']['sum'] , 'funny': senti_data['funny']['sum'], 'cool': senti_data['cool']['sum'], 'weighted_stars': senti_data['stars']['<lambda>']}\n",
    "sentiment_data = pd.DataFrame(data)\n",
    "sentiment_data"
   ]
  },
  {
   "cell_type": "code",
   "execution_count": 36,
   "metadata": {},
   "outputs": [],
   "source": [
    "model_prem_data = business.merge(sentiment_data, left_on='business_id', right_on='business_id')"
   ]
  },
  {
   "cell_type": "code",
   "execution_count": 23,
   "metadata": {},
   "outputs": [
    {
     "data": {
      "text/plain": [
       "Index(['Unnamed: 0', 'Unnamed: 0.1', 'business_id', 'city', 'state',\n",
       "       'latitude', 'longitude', 'stars', 'attributes.GoodForKids',\n",
       "       'attributes.RestaurantsDelivery', 'attributes.Caters',\n",
       "       'attributes.WiFi', 'attributes.RestaurantsTakeOut',\n",
       "       'attributes.BusinessAcceptsCreditCards',\n",
       "       'attributes.RestaurantsTableService',\n",
       "       'attributes.RestaurantsGoodForGroups', 'attributes.OutdoorSeating',\n",
       "       'attributes.HasTV', 'attributes.BikeParking',\n",
       "       'attributes.RestaurantsReservations',\n",
       "       'attributes.RestaurantsPriceRange2',\n",
       "       'attributes.BusinessAcceptsBitcoin', 'attributes.ByAppointmentOnly',\n",
       "       'attributes.AcceptsInsurance', 'attributes.GoodForDancing',\n",
       "       'attributes.CoatCheck', 'attributes.HappyHour',\n",
       "       'attributes.BYOBCorkage', 'attributes.DriveThru',\n",
       "       'attributes.WheelchairAccessible', 'attributes.AgesAllowed',\n",
       "       'attributes.Smoking', 'attributes.DogsAllowed', 'attributes.Corkage',\n",
       "       'attributes.BYOB', 'attributes.DietaryRestrictions',\n",
       "       'attributes.Open24Hours', 'attributes.RestaurantsCounterService',\n",
       "       'Unnamed: 37', 'Unnamed: 38', 'Unnamed: 39', 'Unnamed: 40',\n",
       "       'Unnamed: 41', 'Unnamed: 42', 'count', 'useful', 'funny', 'cool',\n",
       "       'weighted_stars'],\n",
       "      dtype='object')"
      ]
     },
     "execution_count": 23,
     "metadata": {},
     "output_type": "execute_result"
    }
   ],
   "source": [
    "model_prem_data.columns"
   ]
  },
  {
   "cell_type": "code",
   "execution_count": 24,
   "metadata": {},
   "outputs": [
    {
     "data": {
      "text/plain": [
       "True     98590\n",
       "False     5534\n",
       "None        81\n",
       "Name: attributes.BusinessAcceptsCreditCards, dtype: int64"
      ]
     },
     "execution_count": 24,
     "metadata": {},
     "output_type": "execute_result"
    }
   ],
   "source": [
    "model_prem_data['attributes.BusinessAcceptsCreditCards'].value_counts()"
   ]
  },
  {
   "cell_type": "code",
   "execution_count": 25,
   "metadata": {},
   "outputs": [
    {
     "data": {
      "text/plain": [
       "Unnamed: 0                                    0\n",
       "Unnamed: 0.1                                  0\n",
       "business_id                                   0\n",
       "city                                          1\n",
       "state                                         0\n",
       "latitude                                      0\n",
       "longitude                                     0\n",
       "stars                                         0\n",
       "attributes.GoodForKids                    91993\n",
       "attributes.RestaurantsDelivery           101870\n",
       "attributes.Caters                        106821\n",
       "attributes.WiFi                          102519\n",
       "attributes.RestaurantsTakeOut             96594\n",
       "attributes.BusinessAcceptsCreditCards     27743\n",
       "attributes.RestaurantsTableService       122312\n",
       "attributes.RestaurantsGoodForGroups      100833\n",
       "attributes.OutdoorSeating                100444\n",
       "attributes.HasTV                         104298\n",
       "attributes.BikeParking                    76937\n",
       "attributes.RestaurantsReservations       102246\n",
       "attributes.RestaurantsPriceRange2         64823\n",
       "attributes.BusinessAcceptsBitcoin        119713\n",
       "attributes.ByAppointmentOnly              94370\n",
       "attributes.AcceptsInsurance              125727\n",
       "attributes.GoodForDancing                128819\n",
       "attributes.CoatCheck                     129642\n",
       "attributes.HappyHour                     128481\n",
       "attributes.BYOBCorkage                   130682\n",
       "attributes.DriveThru                     129716\n",
       "attributes.WheelchairAccessible          117651\n",
       "attributes.AgesAllowed                   131859\n",
       "attributes.Smoking                       129594\n",
       "attributes.DogsAllowed                   127167\n",
       "attributes.Corkage                       131354\n",
       "attributes.BYOB                          131922\n",
       "attributes.DietaryRestrictions           131919\n",
       "attributes.Open24Hours                   131913\n",
       "attributes.RestaurantsCounterService     131913\n",
       "Unnamed: 37                              131922\n",
       "Unnamed: 38                              131922\n",
       "Unnamed: 39                              131922\n",
       "Unnamed: 40                              131922\n",
       "Unnamed: 41                              131947\n",
       "Unnamed: 42                              131947\n",
       "count                                         0\n",
       "useful                                        0\n",
       "funny                                         0\n",
       "cool                                          0\n",
       "weighted_stars                                0\n",
       "dtype: int64"
      ]
     },
     "execution_count": 25,
     "metadata": {},
     "output_type": "execute_result"
    }
   ],
   "source": [
    "model_prem_data.apply(lambda col: col.isna().sum())"
   ]
  },
  {
   "cell_type": "code",
   "execution_count": 26,
   "metadata": {},
   "outputs": [],
   "source": [
    "model_prem_data['weighted_stars'] = model_prem_data['weighted_stars'].apply(lambda row: float('%s' % float('%.3g' % row)))"
   ]
  },
  {
   "cell_type": "code",
   "execution_count": 27,
   "metadata": {},
   "outputs": [],
   "source": [
    "model_prem_data['attributes.BusinessAcceptsCreditCards'] =  model_prem_data['attributes.BusinessAcceptsCreditCards'][model_prem_data['attributes.BusinessAcceptsCreditCards'] != 'None']"
   ]
  },
  {
   "cell_type": "code",
   "execution_count": 28,
   "metadata": {},
   "outputs": [],
   "source": [
    "model_prem_data = model_prem_data.dropna(subset=['attributes.BusinessAcceptsCreditCards']) "
   ]
  },
  {
   "cell_type": "code",
   "execution_count": 29,
   "metadata": {},
   "outputs": [],
   "source": [
    "def calc_bool(row):\n",
    "    if(row == 'True'):\n",
    "        return(int(1))\n",
    "    else:\n",
    "        return(int(0))\n",
    "\n",
    "model_prem_data['attributes.BusinessAcceptsCreditCards'] = model_prem_data['attributes.BusinessAcceptsCreditCards'].apply(lambda col: calc_bool(col))"
   ]
  },
  {
   "cell_type": "code",
   "execution_count": 30,
   "metadata": {},
   "outputs": [
    {
     "data": {
      "text/plain": [
       "1    98590\n",
       "0     5534\n",
       "Name: attributes.BusinessAcceptsCreditCards, dtype: int64"
      ]
     },
     "execution_count": 30,
     "metadata": {},
     "output_type": "execute_result"
    }
   ],
   "source": [
    "model_prem_data['attributes.BusinessAcceptsCreditCards'].value_counts()"
   ]
  },
  {
   "cell_type": "code",
   "execution_count": 31,
   "metadata": {},
   "outputs": [],
   "source": [
    "model_data = model_prem_data[['business_id', 'city', 'state', 'latitude', 'longitude','stars', 'attributes.BusinessAcceptsCreditCards', 'count', 'useful', 'funny', 'cool', 'weighted_stars']]"
   ]
  },
  {
   "cell_type": "code",
   "execution_count": 33,
   "metadata": {},
   "outputs": [
    {
     "data": {
      "image/png": "[encoded data removed]",
      "text/plain": [
       "<Figure size 432x288 with 1 Axes>"
      ]
     },
     "metadata": {
      "needs_background": "light"
     },
     "output_type": "display_data"
    }
   ],
   "source": [
    "prob = model_data['weighted_stars'].value_counts()\n",
    "prob /= prob.sum()\n",
    "category_classes = pd.qcut(prob, q=[0, .25, 0.95, 1.], \n",
    "                 labels=['bottom 25%', 'mid 70%', 'top 5%'])\n",
    "prob_groups = prob.groupby(category_classes).sum()\n",
    "prob_groups.plot(kind='bar')\n",
    "plt.xticks(rotation=0)\n",
    "plt.show()"
   ]
  },
  {
   "cell_type": "code",
   "execution_count": 35,
   "metadata": {},
   "outputs": [
    {
     "data": {
      "text/plain": [
       "weighted_stars\n",
       "bottom 25%    0.046781\n",
       "mid 70%       0.745553\n",
       "top 5%        0.207666\n",
       "Name: weighted_stars, dtype: float64"
      ]
     },
     "execution_count": 35,
     "metadata": {},
     "output_type": "execute_result"
    }
   ],
   "source": [
    "prob_groups"
   ]
  },
  {
   "cell_type": "code",
   "execution_count": null,
   "metadata": {},
   "outputs": [],
   "source": [
    "model_data.to_csv(\"model_data.csv\")"
   ]
  }
 ],
 "metadata": {
  "kernelspec": {
   "display_name": "Python 3",
   "language": "python",
   "name": "python3"
  },
  "language_info": {
   "codemirror_mode": {
    "name": "ipython",
    "version": 3
   },
   "file_extension": ".py",
   "mimetype": "text/x-python",
   "name": "python",
   "nbconvert_exporter": "python",
   "pygments_lexer": "ipython3",
   "version": "3.7.6"
  }
 },
 "nbformat": 4,
 "nbformat_minor": 4
}
